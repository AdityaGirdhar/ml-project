{
 "cells": [
  {
   "cell_type": "code",
   "execution_count": 64,
   "metadata": {},
   "outputs": [],
   "source": [
    "# Imports\n",
    "import pandas as pd\n",
    "import numpy as np\n",
    "import matplotlib.pyplot as plt\n",
    "import seaborn as sns\n",
    "from sklearn.ensemble import RandomForestRegressor\n",
    "from sklearn.metrics import mean_squared_error, r2_score, accuracy_score\n",
    "from sklearn.model_selection import train_test_split\n",
    "from sklearn.preprocessing import MinMaxScaler, StandardScaler"
   ]
  },
  {
   "cell_type": "code",
   "execution_count": 65,
   "metadata": {},
   "outputs": [],
   "source": [
    "# Loading data\n",
    "data_no_menu = pd.read_csv('../data/all.csv')\n",
    "data_menu = pd.read_csv('../data/all_with_onehot.csv')"
   ]
  },
  {
   "cell_type": "code",
   "execution_count": 66,
   "metadata": {},
   "outputs": [
    {
     "data": {
      "text/html": [
       "<div>\n",
       "<style scoped>\n",
       "    .dataframe tbody tr th:only-of-type {\n",
       "        vertical-align: middle;\n",
       "    }\n",
       "\n",
       "    .dataframe tbody tr th {\n",
       "        vertical-align: top;\n",
       "    }\n",
       "\n",
       "    .dataframe thead th {\n",
       "        text-align: right;\n",
       "    }\n",
       "</style>\n",
       "<table border=\"1\" class=\"dataframe\">\n",
       "  <thead>\n",
       "    <tr style=\"text-align: right;\">\n",
       "      <th></th>\n",
       "      <th>Date</th>\n",
       "      <th>Weekday</th>\n",
       "      <th>MealType</th>\n",
       "      <th>Paytm+Cash</th>\n",
       "      <th>Coupons</th>\n",
       "      <th>SemType</th>\n",
       "      <th>Holiday</th>\n",
       "      <th>CouponsMand</th>\n",
       "    </tr>\n",
       "  </thead>\n",
       "  <tbody>\n",
       "    <tr>\n",
       "      <th>0</th>\n",
       "      <td>2022-09-01</td>\n",
       "      <td>3</td>\n",
       "      <td>BreakFast</td>\n",
       "      <td>186.0</td>\n",
       "      <td>117.0</td>\n",
       "      <td>Acad</td>\n",
       "      <td>0</td>\n",
       "      <td>0.0</td>\n",
       "    </tr>\n",
       "    <tr>\n",
       "      <th>1</th>\n",
       "      <td>2022-09-01</td>\n",
       "      <td>3</td>\n",
       "      <td>Lunch</td>\n",
       "      <td>293.0</td>\n",
       "      <td>217.0</td>\n",
       "      <td>Acad</td>\n",
       "      <td>0</td>\n",
       "      <td>0.0</td>\n",
       "    </tr>\n",
       "    <tr>\n",
       "      <th>2</th>\n",
       "      <td>2022-09-01</td>\n",
       "      <td>3</td>\n",
       "      <td>EveningSnacks</td>\n",
       "      <td>37.0</td>\n",
       "      <td>139.0</td>\n",
       "      <td>Acad</td>\n",
       "      <td>0</td>\n",
       "      <td>0.0</td>\n",
       "    </tr>\n",
       "    <tr>\n",
       "      <th>3</th>\n",
       "      <td>2022-09-01</td>\n",
       "      <td>3</td>\n",
       "      <td>Dinner</td>\n",
       "      <td>113.0</td>\n",
       "      <td>220.0</td>\n",
       "      <td>Acad</td>\n",
       "      <td>0</td>\n",
       "      <td>0.0</td>\n",
       "    </tr>\n",
       "    <tr>\n",
       "      <th>4</th>\n",
       "      <td>2022-09-02</td>\n",
       "      <td>4</td>\n",
       "      <td>BreakFast</td>\n",
       "      <td>100.0</td>\n",
       "      <td>236.0</td>\n",
       "      <td>Acad</td>\n",
       "      <td>0</td>\n",
       "      <td>0.0</td>\n",
       "    </tr>\n",
       "  </tbody>\n",
       "</table>\n",
       "</div>"
      ],
      "text/plain": [
       "         Date  Weekday       MealType  Paytm+Cash  Coupons SemType  Holiday  \\\n",
       "0  2022-09-01        3      BreakFast       186.0    117.0    Acad        0   \n",
       "1  2022-09-01        3          Lunch       293.0    217.0    Acad        0   \n",
       "2  2022-09-01        3  EveningSnacks        37.0    139.0    Acad        0   \n",
       "3  2022-09-01        3         Dinner       113.0    220.0    Acad        0   \n",
       "4  2022-09-02        4      BreakFast       100.0    236.0    Acad        0   \n",
       "\n",
       "   CouponsMand  \n",
       "0          0.0  \n",
       "1          0.0  \n",
       "2          0.0  \n",
       "3          0.0  \n",
       "4          0.0  "
      ]
     },
     "execution_count": 66,
     "metadata": {},
     "output_type": "execute_result"
    }
   ],
   "source": [
    "data_no_menu.head()"
   ]
  },
  {
   "cell_type": "code",
   "execution_count": 67,
   "metadata": {},
   "outputs": [],
   "source": [
    "# Preprocessing the dataset\n",
    "def preprocess(data, to_onehot=True, to_drop_vacation=False):\n",
    "    data = data.dropna()\n",
    "        \n",
    "    # Converting the date column to datetime\n",
    "    data['Date'] = pd.to_datetime(data['Date'])\n",
    "\n",
    "    # Adding day, dayofweek, month and year columns\n",
    "    data['Day'] = pd.DatetimeIndex(data['Date']).day\n",
    "    data['Month'] = pd.DatetimeIndex(data['Date']).month\n",
    "    data['Year'] = pd.DatetimeIndex(data['Date']).year\n",
    "\n",
    "    # Scaling the data\n",
    "    # to_normalize = ['Day']\n",
    "    # scaler = MinMaxScaler()\n",
    "    # data[to_normalize] = scaler.fit_transform(data[to_normalize])\n",
    "\n",
    "    # to_normalize = ['Holiday']\n",
    "    # scaler = StandardScaler()\n",
    "    # data[to_normalize] = scaler.fit_transform(data[to_normalize])\n",
    "\n",
    "    # Encoding the categorical data\n",
    "    if to_onehot:\n",
    "        categorical_features = ['Weekday', 'Month', 'Year', 'MealType', 'SemType']\n",
    "        data = pd.get_dummies(data, columns=categorical_features)\n",
    "    else:\n",
    "        # Using label encoding\n",
    "        categorical_features = ['MealType', 'SemType']\n",
    "        for feature in categorical_features:\n",
    "            data[feature] = data[feature].astype('category')\n",
    "            data[feature] = data[feature].cat.codes\n",
    "\n",
    "    # Dropping vacations (if required)\n",
    "    if to_drop_vacation:\n",
    "        data = data[data['Semtype_Vacation'] == 0]\n",
    "\n",
    "    # Splitting into X and y\n",
    "    X = data.drop(columns=['Paytm+Cash', 'Coupons'])\n",
    "    y_paytm = data['Paytm+Cash']\n",
    "    y_coupons = data['Coupons']\n",
    "    y_total = data['Paytm+Cash'] + data['Coupons']\n",
    "\n",
    "    return X, y_paytm, y_coupons, y_total"
   ]
  },
  {
   "cell_type": "code",
   "execution_count": 68,
   "metadata": {},
   "outputs": [
    {
     "name": "stderr",
     "output_type": "stream",
     "text": [
      "C:\\Users\\rajad\\AppData\\Local\\Temp\\ipykernel_21032\\1111604582.py:6: SettingWithCopyWarning: \n",
      "A value is trying to be set on a copy of a slice from a DataFrame.\n",
      "Try using .loc[row_indexer,col_indexer] = value instead\n",
      "\n",
      "See the caveats in the documentation: https://pandas.pydata.org/pandas-docs/stable/user_guide/indexing.html#returning-a-view-versus-a-copy\n",
      "  data['Date'] = pd.to_datetime(data['Date'])\n",
      "C:\\Users\\rajad\\AppData\\Local\\Temp\\ipykernel_21032\\1111604582.py:9: SettingWithCopyWarning: \n",
      "A value is trying to be set on a copy of a slice from a DataFrame.\n",
      "Try using .loc[row_indexer,col_indexer] = value instead\n",
      "\n",
      "See the caveats in the documentation: https://pandas.pydata.org/pandas-docs/stable/user_guide/indexing.html#returning-a-view-versus-a-copy\n",
      "  data['Day'] = pd.DatetimeIndex(data['Date']).day\n",
      "C:\\Users\\rajad\\AppData\\Local\\Temp\\ipykernel_21032\\1111604582.py:10: SettingWithCopyWarning: \n",
      "A value is trying to be set on a copy of a slice from a DataFrame.\n",
      "Try using .loc[row_indexer,col_indexer] = value instead\n",
      "\n",
      "See the caveats in the documentation: https://pandas.pydata.org/pandas-docs/stable/user_guide/indexing.html#returning-a-view-versus-a-copy\n",
      "  data['Month'] = pd.DatetimeIndex(data['Date']).month\n",
      "C:\\Users\\rajad\\AppData\\Local\\Temp\\ipykernel_21032\\1111604582.py:11: SettingWithCopyWarning: \n",
      "A value is trying to be set on a copy of a slice from a DataFrame.\n",
      "Try using .loc[row_indexer,col_indexer] = value instead\n",
      "\n",
      "See the caveats in the documentation: https://pandas.pydata.org/pandas-docs/stable/user_guide/indexing.html#returning-a-view-versus-a-copy\n",
      "  data['Year'] = pd.DatetimeIndex(data['Date']).year\n",
      "C:\\Users\\rajad\\AppData\\Local\\Temp\\ipykernel_21032\\1111604582.py:30: SettingWithCopyWarning: \n",
      "A value is trying to be set on a copy of a slice from a DataFrame.\n",
      "Try using .loc[row_indexer,col_indexer] = value instead\n",
      "\n",
      "See the caveats in the documentation: https://pandas.pydata.org/pandas-docs/stable/user_guide/indexing.html#returning-a-view-versus-a-copy\n",
      "  data[feature] = data[feature].astype('category')\n",
      "C:\\Users\\rajad\\AppData\\Local\\Temp\\ipykernel_21032\\1111604582.py:31: SettingWithCopyWarning: \n",
      "A value is trying to be set on a copy of a slice from a DataFrame.\n",
      "Try using .loc[row_indexer,col_indexer] = value instead\n",
      "\n",
      "See the caveats in the documentation: https://pandas.pydata.org/pandas-docs/stable/user_guide/indexing.html#returning-a-view-versus-a-copy\n",
      "  data[feature] = data[feature].cat.codes\n",
      "C:\\Users\\rajad\\AppData\\Local\\Temp\\ipykernel_21032\\1111604582.py:30: SettingWithCopyWarning: \n",
      "A value is trying to be set on a copy of a slice from a DataFrame.\n",
      "Try using .loc[row_indexer,col_indexer] = value instead\n",
      "\n",
      "See the caveats in the documentation: https://pandas.pydata.org/pandas-docs/stable/user_guide/indexing.html#returning-a-view-versus-a-copy\n",
      "  data[feature] = data[feature].astype('category')\n",
      "C:\\Users\\rajad\\AppData\\Local\\Temp\\ipykernel_21032\\1111604582.py:31: SettingWithCopyWarning: \n",
      "A value is trying to be set on a copy of a slice from a DataFrame.\n",
      "Try using .loc[row_indexer,col_indexer] = value instead\n",
      "\n",
      "See the caveats in the documentation: https://pandas.pydata.org/pandas-docs/stable/user_guide/indexing.html#returning-a-view-versus-a-copy\n",
      "  data[feature] = data[feature].cat.codes\n",
      "C:\\Users\\rajad\\AppData\\Local\\Temp\\ipykernel_21032\\1111604582.py:6: SettingWithCopyWarning: \n",
      "A value is trying to be set on a copy of a slice from a DataFrame.\n",
      "Try using .loc[row_indexer,col_indexer] = value instead\n",
      "\n",
      "See the caveats in the documentation: https://pandas.pydata.org/pandas-docs/stable/user_guide/indexing.html#returning-a-view-versus-a-copy\n",
      "  data['Date'] = pd.to_datetime(data['Date'])\n",
      "C:\\Users\\rajad\\AppData\\Local\\Temp\\ipykernel_21032\\1111604582.py:9: SettingWithCopyWarning: \n",
      "A value is trying to be set on a copy of a slice from a DataFrame.\n",
      "Try using .loc[row_indexer,col_indexer] = value instead\n",
      "\n",
      "See the caveats in the documentation: https://pandas.pydata.org/pandas-docs/stable/user_guide/indexing.html#returning-a-view-versus-a-copy\n",
      "  data['Day'] = pd.DatetimeIndex(data['Date']).day\n",
      "C:\\Users\\rajad\\AppData\\Local\\Temp\\ipykernel_21032\\1111604582.py:10: SettingWithCopyWarning: \n",
      "A value is trying to be set on a copy of a slice from a DataFrame.\n",
      "Try using .loc[row_indexer,col_indexer] = value instead\n",
      "\n",
      "See the caveats in the documentation: https://pandas.pydata.org/pandas-docs/stable/user_guide/indexing.html#returning-a-view-versus-a-copy\n",
      "  data['Month'] = pd.DatetimeIndex(data['Date']).month\n",
      "C:\\Users\\rajad\\AppData\\Local\\Temp\\ipykernel_21032\\1111604582.py:11: SettingWithCopyWarning: \n",
      "A value is trying to be set on a copy of a slice from a DataFrame.\n",
      "Try using .loc[row_indexer,col_indexer] = value instead\n",
      "\n",
      "See the caveats in the documentation: https://pandas.pydata.org/pandas-docs/stable/user_guide/indexing.html#returning-a-view-versus-a-copy\n",
      "  data['Year'] = pd.DatetimeIndex(data['Date']).year\n"
     ]
    }
   ],
   "source": [
    "# Splitting the data into train and test sets (with vacations)\n",
    "X_no_onehot, y_paytm_no_onehot, y_coupons_no_onehot, y_total_no_onehot = preprocess(data_no_menu, to_onehot=False)\n",
    "X_onehot, y_paytm_onehot, y_coupons_onehot, y_total_onehot = preprocess(data_no_menu, to_onehot=True)\n",
    "\n",
    "# cutoff at 2023-08-31 for no onehot\n",
    "X_train_no_onehot = X_no_onehot[X_no_onehot['Date'] <= '2023-08-31']\n",
    "X_test_no_onehot = X_no_onehot[X_no_onehot['Date'] > '2023-08-31']\n",
    "y_paytm_train_no_onehot = y_paytm_no_onehot[X_no_onehot['Date'] <= '2023-08-31']\n",
    "y_paytm_test_no_onehot = y_paytm_no_onehot[X_no_onehot['Date'] > '2023-08-31']\n",
    "y_coupons_train_no_onehot = y_coupons_no_onehot[X_no_onehot['Date'] <= '2023-08-31']\n",
    "y_coupons_test_no_onehot = y_coupons_no_onehot[X_no_onehot['Date'] > '2023-08-31']\n",
    "y_total_train_no_onehot = y_total_no_onehot[X_no_onehot['Date'] <= '2023-08-31']\n",
    "y_total_test_no_onehot = y_total_no_onehot[X_no_onehot['Date'] > '2023-08-31']\n",
    "\n",
    "# cutoff at 2023-08-31 for onehot\n",
    "X_train_onehot = X_onehot[X_onehot['Date'] <= '2023-08-31']\n",
    "X_test_onehot = X_onehot[X_onehot['Date'] > '2023-08-31']\n",
    "y_paytm_train_onehot = y_paytm_onehot[X_onehot['Date'] <= '2023-08-31']\n",
    "y_paytm_test_onehot = y_paytm_onehot[X_onehot['Date'] > '2023-08-31']\n",
    "y_coupons_train_onehot = y_coupons_onehot[X_onehot['Date'] <= '2023-08-31']\n",
    "y_coupons_test_onehot = y_coupons_onehot[X_onehot['Date'] > '2023-08-31']\n",
    "y_total_train_onehot = y_total_onehot[X_onehot['Date'] <= '2023-08-31']\n",
    "y_total_test_onehot = y_total_onehot[X_onehot['Date'] > '2023-08-31']\n",
    "\n",
    "# Drop the date column\n",
    "X_train_no_onehot = X_train_no_onehot.drop(columns=['Date'])\n",
    "X_test_no_onehot = X_test_no_onehot.drop(columns=['Date'])\n",
    "X_train_onehot = X_train_onehot.drop(columns=['Date'])\n",
    "X_test_onehot = X_test_onehot.drop(columns=['Date'])"
   ]
  },
  {
   "cell_type": "code",
   "execution_count": 69,
   "metadata": {},
   "outputs": [],
   "source": [
    "# Defining parameters for grid search\n",
    "parameters = {\n",
    "    'n_estimators': [10, 25, 50, 100, 500],\n",
    "    'max_depth': [5, 10, 20, None],\n",
    "    'min_samples_split': [2, 4, 6],\n",
    "    'min_samples_leaf': [1, 2, 4],\n",
    "    'max_features': ['sqrt', 'log2', 25, None]\n",
    "}"
   ]
  },
  {
   "cell_type": "code",
   "execution_count": 70,
   "metadata": {},
   "outputs": [],
   "source": [
    "def grid_search(X_train, y_train, X_test, y_test, parameters):\n",
    "   # Grid search for paytm+cash using for loops\n",
    "    best_parameters = {}\n",
    "\n",
    "    for n_estimators in parameters['n_estimators']:\n",
    "        for max_depth in parameters['max_depth']:\n",
    "            for min_samples_split in parameters['min_samples_split']:\n",
    "                for min_samples_leaf in parameters['min_samples_leaf']:\n",
    "                    for max_features in parameters['max_features']:\n",
    "                        rfr = RandomForestRegressor(n_estimators=n_estimators, \n",
    "                                                    max_depth=max_depth, \n",
    "                                                    min_samples_split=min_samples_split, \n",
    "                                                    min_samples_leaf=min_samples_leaf,\n",
    "                                                    max_features=max_features, \n",
    "                                                    random_state=42)\n",
    "                        rfr.fit(X_train, y_train)\n",
    "                        y_pred = rfr.predict(X_test)\n",
    "                        rmse = np.sqrt(mean_squared_error(y_test, y_pred))\n",
    "                        r2 = r2_score(y_test, y_pred)\n",
    "                        y_pred_train = rfr.predict(X_train)\n",
    "                        rmse_train = np.sqrt(mean_squared_error(y_train, y_pred_train))\n",
    "                        r2_train = r2_score(y_train, y_pred_train)\n",
    "                        best_parameters[(rmse, r2, rmse_train, r2_train)] = (n_estimators, max_depth, min_samples_split, min_samples_leaf, max_features)\n",
    "\n",
    "    # Printing the best parameters with scores\n",
    "    best_parameters = sorted(best_parameters.items(), key=lambda x: x[0][0])\n",
    "    print('Best parameters:')\n",
    "    print('Test RMSE:', best_parameters[0][0][0])\n",
    "    print('Test R2:', best_parameters[0][0][1])\n",
    "    print('Train RMSE:', best_parameters[0][0][2])\n",
    "    print('Train R2:', best_parameters[0][0][3])\n",
    "    print('Parameters:', best_parameters[0][1])\n",
    "\n",
    "    return best_parameters[0][1]"
   ]
  },
  {
   "cell_type": "code",
   "execution_count": 71,
   "metadata": {},
   "outputs": [
    {
     "name": "stdout",
     "output_type": "stream",
     "text": [
      "Best parameters:\n",
      "Test RMSE: 17.57900960972621\n",
      "Test R2: 0.7860533319577394\n",
      "Train RMSE: 12.659515135914436\n",
      "Train R2: 0.9080855478469568\n",
      "Parameters: (25, None, 4, 1, 'log2')\n"
     ]
    }
   ],
   "source": [
    "# Grid search for paytm+cash using onehot\n",
    "best_parameters_paytm_onehot = grid_search(X_train_onehot, y_paytm_train_onehot, X_test_onehot, y_paytm_test_onehot, parameters)"
   ]
  },
  {
   "cell_type": "code",
   "execution_count": 72,
   "metadata": {},
   "outputs": [
    {
     "name": "stdout",
     "output_type": "stream",
     "text": [
      "Best parameters:\n",
      "Test RMSE: 11.551095637122748\n",
      "Test R2: 0.9076231648012663\n",
      "Train RMSE: 12.839751526471952\n",
      "Train R2: 0.9054497030755154\n",
      "Parameters: (500, 10, 6, 1, None)\n"
     ]
    }
   ],
   "source": [
    "# Grid search for paytm_cash without using onehot\n",
    "best_parameters_paytm_no_onehot = grid_search(X_train_no_onehot, y_paytm_train_no_onehot, X_test_no_onehot, y_paytm_test_no_onehot, parameters)"
   ]
  },
  {
   "cell_type": "code",
   "execution_count": 73,
   "metadata": {},
   "outputs": [
    {
     "name": "stdout",
     "output_type": "stream",
     "text": [
      "Best parameters:\n",
      "Test RMSE: 57.993215930307166\n",
      "Test R2: 0.6045193816169899\n",
      "Train RMSE: 16.609273128416362\n",
      "Train R2: 0.9652106350459195\n",
      "Parameters: (10, None, 4, 1, 25)\n"
     ]
    }
   ],
   "source": [
    "# Grid search for coupons using onehot\n",
    "best_parameters_coupons_onehot = grid_search(X_train_onehot, y_coupons_train_onehot, X_test_onehot, y_coupons_test_onehot, parameters)"
   ]
  },
  {
   "cell_type": "code",
   "execution_count": 74,
   "metadata": {},
   "outputs": [
    {
     "name": "stdout",
     "output_type": "stream",
     "text": [
      "Best parameters:\n",
      "Test RMSE: 54.12950649276085\n",
      "Test R2: 0.6554605512467115\n",
      "Train RMSE: 20.59799205999863\n",
      "Train R2: 0.9464949196827607\n",
      "Parameters: (10, None, 6, 1, None)\n"
     ]
    }
   ],
   "source": [
    "# Grid search for coupons without using onehot\n",
    "best_parameters_coupons_no_onehot = grid_search(X_train_no_onehot, y_coupons_train_no_onehot, X_test_no_onehot, y_coupons_test_no_onehot, parameters)"
   ]
  },
  {
   "cell_type": "code",
   "execution_count": 75,
   "metadata": {},
   "outputs": [
    {
     "name": "stdout",
     "output_type": "stream",
     "text": [
      "Best parameters:\n",
      "Test RMSE: 60.4202852407321\n",
      "Test R2: 0.7327849392388255\n",
      "Train RMSE: 14.351042443393283\n",
      "Train R2: 0.9833637611137053\n",
      "Parameters: (50, None, 2, 1, 'sqrt')\n"
     ]
    }
   ],
   "source": [
    "# Grid search for total using onehot\n",
    "best_parameters_total_onehot = grid_search(X_train_onehot, y_total_train_onehot, X_test_onehot, y_total_test_onehot, parameters)"
   ]
  },
  {
   "cell_type": "code",
   "execution_count": 76,
   "metadata": {},
   "outputs": [
    {
     "name": "stdout",
     "output_type": "stream",
     "text": [
      "Best parameters:\n",
      "Test RMSE: 59.16446864864241\n",
      "Test R2: 0.7437774631895977\n",
      "Train RMSE: 17.19554265825008\n",
      "Train R2: 0.9761152872860931\n",
      "Parameters: (50, 20, 2, 1, 'log2')\n"
     ]
    }
   ],
   "source": [
    "# Grid search for total without using onehot\n",
    "best_parameters_total_no_onehot = grid_search(X_train_no_onehot, y_total_train_no_onehot, X_test_no_onehot, y_total_test_no_onehot, parameters)"
   ]
  },
  {
   "cell_type": "code",
   "execution_count": 77,
   "metadata": {},
   "outputs": [],
   "source": [
    "# Using menu\n",
    "# Splitting the data into train and test sets (with vacations)\n",
    "X_no_onehot, y_paytm_no_onehot, y_coupons_no_onehot, y_total_no_onehot = preprocess(data_menu, to_onehot=False)\n",
    "X_onehot, y_paytm_onehot, y_coupons_onehot, y_total_onehot = preprocess(data_menu, to_onehot=True)\n",
    "\n",
    "# cutoff at 2023-08-31 for no onehot\n",
    "X_train_no_onehot = X_no_onehot[X_no_onehot['Date'] <= '2023-08-31']\n",
    "X_test_no_onehot = X_no_onehot[X_no_onehot['Date'] > '2023-08-31']\n",
    "y_paytm_train_no_onehot = y_paytm_no_onehot[X_no_onehot['Date'] <= '2023-08-31']\n",
    "y_paytm_test_no_onehot = y_paytm_no_onehot[X_no_onehot['Date'] > '2023-08-31']\n",
    "y_coupons_train_no_onehot = y_coupons_no_onehot[X_no_onehot['Date'] <= '2023-08-31']\n",
    "y_coupons_test_no_onehot = y_coupons_no_onehot[X_no_onehot['Date'] > '2023-08-31']\n",
    "y_total_train_no_onehot = y_total_no_onehot[X_no_onehot['Date'] <= '2023-08-31']\n",
    "y_total_test_no_onehot = y_total_no_onehot[X_no_onehot['Date'] > '2023-08-31']\n",
    "\n",
    "# cutoff at 2023-08-31 for onehot\n",
    "X_train_onehot = X_onehot[X_onehot['Date'] <= '2023-08-31']\n",
    "X_test_onehot = X_onehot[X_onehot['Date'] > '2023-08-31']\n",
    "y_paytm_train_onehot = y_paytm_onehot[X_onehot['Date'] <= '2023-08-31']\n",
    "y_paytm_test_onehot = y_paytm_onehot[X_onehot['Date'] > '2023-08-31']\n",
    "y_coupons_train_onehot = y_coupons_onehot[X_onehot['Date'] <= '2023-08-31']\n",
    "y_coupons_test_onehot = y_coupons_onehot[X_onehot['Date'] > '2023-08-31']\n",
    "y_total_train_onehot = y_total_onehot[X_onehot['Date'] <= '2023-08-31']\n",
    "y_total_test_onehot = y_total_onehot[X_onehot['Date'] > '2023-08-31']\n",
    "\n",
    "# Drop the date column\n",
    "X_train_no_onehot = X_train_no_onehot.drop(columns=['Date'])\n",
    "X_test_no_onehot = X_test_no_onehot.drop(columns=['Date'])\n",
    "X_train_onehot = X_train_onehot.drop(columns=['Date'])\n",
    "X_test_onehot = X_test_onehot.drop(columns=['Date'])"
   ]
  },
  {
   "cell_type": "code",
   "execution_count": 78,
   "metadata": {},
   "outputs": [
    {
     "name": "stdout",
     "output_type": "stream",
     "text": [
      "Best parameters:\n",
      "Test RMSE: 11.80221121067723\n",
      "Test R2: 0.9035630458894336\n",
      "Train RMSE: 10.81884323716174\n",
      "Train R2: 0.9328708243200896\n",
      "Parameters: (50, 10, 4, 1, None)\n"
     ]
    }
   ],
   "source": [
    "# Grid search for paytm_cash without using onehot\n",
    "best_parameters_paytm_no_onehot = grid_search(X_train_no_onehot, y_paytm_train_no_onehot, X_test_no_onehot, y_paytm_test_no_onehot, parameters)"
   ]
  },
  {
   "cell_type": "code",
   "execution_count": 79,
   "metadata": {},
   "outputs": [
    {
     "name": "stdout",
     "output_type": "stream",
     "text": [
      "Best parameters:\n",
      "Test RMSE: 18.40000401290644\n",
      "Test R2: 0.7656027265330807\n",
      "Train RMSE: 14.443283172337722\n",
      "Train R2: 0.8803585933986943\n",
      "Parameters: (25, 20, 4, 1, 'log2')\n"
     ]
    }
   ],
   "source": [
    "# Grid search for paytm+cash using onehot\n",
    "best_parameters_paytm_onehot = grid_search(X_train_onehot, y_paytm_train_onehot, X_test_onehot, y_paytm_test_onehot, parameters)"
   ]
  },
  {
   "cell_type": "code",
   "execution_count": 80,
   "metadata": {},
   "outputs": [
    {
     "name": "stdout",
     "output_type": "stream",
     "text": [
      "Best parameters:\n",
      "Test RMSE: 52.25100021602408\n",
      "Test R2: 0.6789593425649789\n",
      "Train RMSE: 18.85378977119594\n",
      "Train R2: 0.955172701415597\n",
      "Parameters: (10, 10, 6, 1, None)\n"
     ]
    }
   ],
   "source": [
    "# Grid search for coupons without using onehot\n",
    "best_parameters_coupons_no_onehot = grid_search(X_train_no_onehot, y_coupons_train_no_onehot, X_test_no_onehot, y_coupons_test_no_onehot, parameters)"
   ]
  },
  {
   "cell_type": "code",
   "execution_count": 81,
   "metadata": {},
   "outputs": [
    {
     "name": "stdout",
     "output_type": "stream",
     "text": [
      "Best parameters:\n",
      "Test RMSE: 59.81619790345949\n",
      "Test R2: 0.57926520644265\n",
      "Train RMSE: 17.713831752947783\n",
      "Train R2: 0.960429614765103\n",
      "Parameters: (10, 20, 2, 1, 'sqrt')\n"
     ]
    }
   ],
   "source": [
    "# Grid search for coupons using onehot\n",
    "best_parameters_coupons_onehot = grid_search(X_train_onehot, y_coupons_train_onehot, X_test_onehot, y_coupons_test_onehot, parameters)"
   ]
  },
  {
   "cell_type": "code",
   "execution_count": 82,
   "metadata": {},
   "outputs": [
    {
     "name": "stdout",
     "output_type": "stream",
     "text": [
      "Best parameters:\n",
      "Test RMSE: 53.823435922144604\n",
      "Test R2: 0.787950024607066\n",
      "Train RMSE: 22.987223124700016\n",
      "Train R2: 0.9573163772514232\n",
      "Parameters: (10, 20, 2, 1, 'sqrt')\n"
     ]
    }
   ],
   "source": [
    "# Grid search for total without using onehot\n",
    "best_parameters_total_no_onehot = grid_search(X_train_no_onehot, y_total_train_no_onehot, X_test_no_onehot, y_total_test_no_onehot, parameters)"
   ]
  },
  {
   "cell_type": "code",
   "execution_count": 83,
   "metadata": {},
   "outputs": [
    {
     "name": "stdout",
     "output_type": "stream",
     "text": [
      "Best parameters:\n",
      "Test RMSE: 59.86626969059177\n",
      "Test R2: 0.7376628565169308\n",
      "Train RMSE: 14.162363307631903\n",
      "Train R2: 0.9837983325953252\n",
      "Parameters: (100, None, 2, 1, 25)\n"
     ]
    }
   ],
   "source": [
    "# Grid search for total using onehot\n",
    "best_parameters_total_onehot = grid_search(X_train_onehot, y_total_train_onehot, X_test_onehot, y_total_test_onehot, parameters)"
   ]
  }
 ],
 "metadata": {
  "kernelspec": {
   "display_name": "tf",
   "language": "python",
   "name": "python3"
  },
  "language_info": {
   "codemirror_mode": {
    "name": "ipython",
    "version": 3
   },
   "file_extension": ".py",
   "mimetype": "text/x-python",
   "name": "python",
   "nbconvert_exporter": "python",
   "pygments_lexer": "ipython3",
   "version": "3.10.10"
  }
 },
 "nbformat": 4,
 "nbformat_minor": 2
}
