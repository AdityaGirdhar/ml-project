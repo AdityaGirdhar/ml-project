{
 "cells": [
  {
   "cell_type": "code",
   "execution_count": 7,
   "metadata": {},
   "outputs": [],
   "source": [
    "import pandas as pd\n",
    "from sklearn.model_selection import train_test_split\n",
    "from sklearn.linear_model import LinearRegression\n",
    "from sklearn.metrics import mean_squared_error, r2_score"
   ]
  },
  {
   "cell_type": "code",
   "execution_count": 19,
   "metadata": {},
   "outputs": [
    {
     "name": "stdout",
     "output_type": "stream",
     "text": [
      "            Date  Weekday       MealType  Paytm+Cash  Coupons  SemType  \\\n",
      "0     2022-09-01        3      BreakFast       186.0    117.0    False   \n",
      "1     2022-09-01        3          Lunch       293.0    217.0    False   \n",
      "2     2022-09-01        3  EveningSnacks        37.0    139.0    False   \n",
      "3     2022-09-01        3         Dinner       113.0    220.0    False   \n",
      "4     2022-09-02        4      BreakFast       100.0    236.0    False   \n",
      "...          ...      ...            ...         ...      ...      ...   \n",
      "1575  2023-09-29        4         Dinner         0.0      NaN    False   \n",
      "1576  2023-09-30        5      BreakFast         0.0      NaN    False   \n",
      "1577  2023-09-30        5          Lunch         0.0      NaN    False   \n",
      "1578  2023-09-30        5  EveningSnacks         0.0      NaN    False   \n",
      "1579  2023-09-30        5         Dinner         0.0      NaN    False   \n",
      "\n",
      "      Holiday  CouponsMand  \n",
      "0       False          0.0  \n",
      "1       False          0.0  \n",
      "2       False          0.0  \n",
      "3       False          0.0  \n",
      "4       False          0.0  \n",
      "...       ...          ...  \n",
      "1575    False          1.0  \n",
      "1576    False          1.0  \n",
      "1577    False          1.0  \n",
      "1578    False          1.0  \n",
      "1579    False          1.0  \n",
      "\n",
      "[1580 rows x 8 columns]\n"
     ]
    }
   ],
   "source": [
    "data = pd.read_csv(\"../data/all.csv\")\n",
    "\n",
    "print(data)\n",
    "# months = []\n",
    "\n",
    "# for i in range(1580):\n",
    "#   # X['Date'][i] = X['Date'][i][5:7]\n",
    "#   month = float(data['Date'][i][5:7])\n",
    "#   months.append(month)\n",
    "\n",
    "# data['Month'] = pd.Series(months)\n",
    "\n",
    "# data_encoded = pd.get_dummies(data, columns=['MealType'], prefix='MealType')\n",
    "\n",
    "# print(data)\n",
    "\n",
    "# X = data[['Weekday','MealType','SemType','Holiday','CouponsMand', 'Month']]\n",
    "# y = data[['Paytm+Cash','Coupons']]\n",
    "\n",
    "# print(X)\n",
    "\n",
    "# # X_train, X_test, y_train, y_test = train_test_split(X, y, test_size=0.2, random_state=42)\n",
    "\n",
    "# # model = LinearRegression()\n",
    "# # model.fit(X_train, y_train)\n",
    "\n",
    "# # y_pred = model.predict(X_test)\n",
    "\n",
    "# # mse = mean_squared_error(y_test, y_pred)\n",
    "# # r2 = r2_score(y_test, y_pred)\n",
    "\n",
    "# # print(\"Root Mean Squared Error:\", mse**0.5)\n",
    "# # print(\"R-squared:\", r2)\n",
    "\n",
    "# # X"
   ]
  },
  {
   "cell_type": "code",
   "execution_count": null,
   "metadata": {},
   "outputs": [],
   "source": []
  }
 ],
 "metadata": {
  "kernelspec": {
   "display_name": "Python 3",
   "language": "python",
   "name": "python3"
  },
  "language_info": {
   "codemirror_mode": {
    "name": "ipython",
    "version": 3
   },
   "file_extension": ".py",
   "mimetype": "text/x-python",
   "name": "python",
   "nbconvert_exporter": "python",
   "pygments_lexer": "ipython3",
   "version": "3.9.6"
  },
  "orig_nbformat": 4
 },
 "nbformat": 4,
 "nbformat_minor": 2
}
